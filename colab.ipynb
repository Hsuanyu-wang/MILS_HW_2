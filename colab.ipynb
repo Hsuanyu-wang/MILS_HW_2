{
 "cells": [
  {
   "cell_type": "code",
   "execution_count": null,
   "id": "b845fce5",
   "metadata": {},
   "outputs": [
    {
     "name": "stdout",
     "output_type": "stream",
     "text": [
      "Looking in indexes: https://pypi.org/simple, https://pypi.ngc.nvidia.com\n",
      "Processing /rapids/aiohttp-3.8.4-cp310-cp310-manylinux_2_17_x86_64.manylinux2014_x86_64.whl (from -r requirements.txt (line 4))\n",
      "\u001b[31mERROR: Could not install packages due to an OSError: [Errno 2] No such file or directory: '/rapids/aiohttp-3.8.4-cp310-cp310-manylinux_2_17_x86_64.manylinux2014_x86_64.whl'\n",
      "\u001b[0m\u001b[31m\n",
      "\u001b[0mTraining subset size: 240\n",
      "Validation subset size: 60\n",
      "Downloading training set...\n",
      "loading annotations into memory...\n"
     ]
    }
   ],
   "source": [
    "# notebooks/colab.ipynb\n",
    "# Cell 1: Setup and downloads\n",
    "import os\n",
    "# Change to the MILS_HW2 directory first\n",
    "os.chdir('../MILS_HW2')\n",
    "\n",
    "!pip install -r requirements.txt\n",
    "# Download all datasets\n",
    "!python scripts/download_imagenette_cls.py\n",
    "!python scripts/download_coco_det.py\n",
    "!python scripts/download_voc_seg.py"
   ]
  },
  {
   "cell_type": "code",
   "execution_count": 1,
   "id": "f1686eee",
   "metadata": {},
   "outputs": [
    {
     "name": "stdout",
     "output_type": "stream",
     "text": [
      "Verifying downloads...\n",
      "seg dataset found at ./data/VOCdevkit/VOC2012\n",
      "det dataset found at ./data/coco_subset\n",
      "cls dataset found at ./data/imagenette2-160\n",
      "Using device: cuda\n"
     ]
    }
   ],
   "source": [
    "# Cell 2: Verify downloads\n",
    "import os\n",
    "# Change to the MILS_HW2 directory first\n",
    "os.chdir('../MILS_HW2')\n",
    "\n",
    "# Add a verification step\n",
    "print(\"Verifying downloads...\")\n",
    "import torch\n",
    "data_paths = {\n",
    "    'seg': './data/VOCdevkit/VOC2012',\n",
    "    'det': './data/coco_subset',\n",
    "    'cls': './data/imagenette2-160'\n",
    "}\n",
    "\n",
    "for task, path in data_paths.items():\n",
    "    if os.path.exists(path):\n",
    "        print(f\"{task} dataset found at {path}\")\n",
    "    else:\n",
    "        print(f\"WARNING: {task} dataset not found at {path}\")\n",
    "        \n",
    "device = torch.device('cuda' if torch.cuda.is_available() else 'cpu')\n",
    "print(f\"Using device: {device}\")"
   ]
  },
  {
   "cell_type": "code",
   "execution_count": 2,
   "id": "5dc7253f",
   "metadata": {},
   "outputs": [
    {
     "name": "stdout",
     "output_type": "stream",
     "text": [
      "Loss functions initialized\n"
     ]
    },
    {
     "name": "stderr",
     "output_type": "stream",
     "text": [
      "/usr/local/lib/python3.10/dist-packages/torchvision/models/_utils.py:208: UserWarning: The parameter 'pretrained' is deprecated since 0.13 and may be removed in the future, please use 'weights' instead.\n",
      "  warnings.warn(\n",
      "/usr/local/lib/python3.10/dist-packages/torchvision/models/_utils.py:223: UserWarning: Arguments other than a weight enum or `None` for 'weights' are deprecated since 0.13 and may be removed in the future. The current behavior is equivalent to passing `weights=MobileNet_V3_Small_Weights.IMAGENET1K_V1`. You can also use `weights=MobileNet_V3_Small_Weights.DEFAULT` to get the most up-to-date weights.\n",
      "  warnings.warn(msg)\n"
     ]
    },
    {
     "name": "stdout",
     "output_type": "stream",
     "text": [
      "Total parameters: 3.2M\n",
      "Total parameters: 3.15M\n",
      "Loading datasets...\n",
      "loading annotations into memory...\n",
      "Done (t=10.47s)\n",
      "creating index...\n",
      "index created!\n",
      "loading annotations into memory...\n",
      "Done (t=1.19s)\n",
      "creating index...\n",
      "index created!\n",
      "dataloaders {'seg': {'train': <torch.utils.data.dataloader.DataLoader object at 0x7fc7a5043040>, 'val': <torch.utils.data.dataloader.DataLoader object at 0x7fc7a5043220>}, 'cls': {'train': <torch.utils.data.dataloader.DataLoader object at 0x7fc7a5043ac0>, 'val': <torch.utils.data.dataloader.DataLoader object at 0x7fc7a5043910>}, 'det': {'train': <torch.utils.data.dataloader.DataLoader object at 0x7fc7a5043640>, 'val': <torch.utils.data.dataloader.DataLoader object at 0x7fc7a5043250>}}\n"
     ]
    }
   ],
   "source": [
    "# Cell 3: Model and Data initialization \n",
    "from src.models.unified_model import UnifiedModel\n",
    "from src.datasets.data_loaders import create_dataloaders\n",
    "from src.training.loss_functions import MultiTaskLoss, UncertaintyWeightedLoss\n",
    "from configs.config import Config  # 使用Config類\n",
    "\n",
    "# 初始化配置\n",
    "config = Config()  # 創建Config實例，不是模組\n",
    "\n",
    "# 初始化損失函數\n",
    "criterion = MultiTaskLoss()\n",
    "print(\"Loss functions initialized\")\n",
    "\n",
    "# 初始化模型\n",
    "model = UnifiedModel().to(device)\n",
    "print(f\"Total parameters: {sum(p.numel() for p in model.parameters())/1e6:.1f}M\")\n",
    "\n",
    "total_params = sum(p.numel() for p in model.parameters())\n",
    "print(f\"Total parameters: {total_params/1e6:.2f}M\")\n",
    "assert total_params <= 8e6, f\"Parameter count {total_params/1e6:.2f}M exceeds 8M limit!\"\n",
    "\n",
    "# 創建數據載入器 (根據你的下載檔案)\n",
    "print(\"Loading datasets...\")\n",
    "dataloaders = create_dataloaders(\n",
    "    batch_size=config.batch_size,\n",
    "    num_workers=config.num_workers\n",
    ")\n",
    "print(\"dataloaders\", dataloaders)\n",
    "\n",
    "# # 準備datasets字典給trainer使用 (只用train set)\n",
    "# datasets = {\n",
    "#     'seg': dataloaders['seg']['train'],\n",
    "#     'seg_val': dataloaders['seg']['val'],\n",
    "#     'det': dataloaders['det']['train'],\n",
    "#     'det_val': dataloaders['det']['val'],\n",
    "#     'cls': dataloaders['cls']['train'],\n",
    "#     'cls_val': dataloaders['cls']['val']\n",
    "# }\n",
    "# print(\"datasets:\\n\", datasets)\n",
    "# print(\"Datasets loaded successfully!\")\n",
    "# print(f\"Detection batches: {len(datasets['det'])}\")\n",
    "# print(f\"Segmentation batches: {len(datasets['seg'])}\")\n",
    "# print(f\"Classification batches: {len(datasets['cls'])}\")"
   ]
  },
  {
   "cell_type": "code",
   "execution_count": 3,
   "id": "02e9c95e",
   "metadata": {},
   "outputs": [
    {
     "name": "stdout",
     "output_type": "stream",
     "text": [
      "=== Stage 1: Segmentation Only ===\n",
      "Stage 1: Training on Mini-VOC-Seg only...\n",
      "[EVAL] Segmentation mIoU: 0.2115\n",
      "Segmentation mIoU baseline: 0.2115\n",
      "=== Stage 2: Detection Only ===\n",
      "Stage 2: Training on Mini-COCO-Det with forgetting mitigation...\n",
      "[EWC] Computing Fisher information for segmentation...\n",
      "[Replay] Creating replay buffer...\n",
      "[EVAL] Detection val batches processed: 60\n",
      "[EVAL] Segmentation mIoU: 0.0477\n",
      "Detection mAP baseline: 0.5000\n",
      "Segmentation mIoU after detection: 0.0477 (drop 77.43%)\n",
      "=== Stage 3: Classification Only ===\n",
      "Stage 3: Training on Imagenette-160 with replay...\n",
      "[Replay] Creating replay buffer...\n",
      "[EVAL] Classification Top-1 Accuracy: 1.0000\n",
      "[EVAL] Segmentation mIoU: 0.0624\n",
      "[EVAL] Detection val batches processed: 60\n",
      "[EVAL] Classification Top-1 Accuracy: 1.0000\n",
      "Classification Top-1 baseline: 1.0000\n",
      "Segmentation mIoU after classification: 0.0624 (drop 70.50%)\n",
      "Detection mAP after classification: 0.5000 (drop 0.00%)\n",
      "Classification Top-1 after classification: 1.0000 (drop 0.00%)\n",
      "Total training time: 8.30 minutes (497.7 seconds)\n"
     ]
    },
    {
     "data": {
      "image/png": "[encoded data removed]",
      "text/plain": [
       "<Figure size 1500x400 with 3 Axes>"
      ]
     },
     "metadata": {},
     "output_type": "display_data"
    }
   ],
   "source": [
    "# Cell 4: Three-stage training\n",
    "import time\n",
    "import matplotlib.pyplot as plt\n",
    "start_time = time.time()\n",
    "from src.training.trainer import MultiTaskTrainer\n",
    "trainer = MultiTaskTrainer(model, dataloaders, config)\n",
    "\n",
    "# Stage 1: Segmentation baseline\n",
    "print(\"=== Stage 1: Segmentation Only ===\")\n",
    "seg_result = trainer.train_stage_1_segmentation(epochs=200)\n",
    "seg_baseline = seg_result['miou']\n",
    "seg_losses = seg_result['losses']\n",
    "print(f\"Segmentation mIoU baseline: {seg_baseline:.4f}\")\n",
    "\n",
    "# Stage 2: Detection with EWC\n",
    "print(\"=== Stage 2: Detection Only ===\")\n",
    "det_result = trainer.train_stage_2_detection(epochs=20)\n",
    "det_baseline = det_result['map']\n",
    "det_losses = det_result['losses']\n",
    "seg_after_det = trainer.evaluate_segmentation()\n",
    "seg_drop = (seg_baseline - seg_after_det) / seg_baseline * 100\n",
    "print(f\"Detection mAP baseline: {det_baseline:.4f}\")\n",
    "print(f\"Segmentation mIoU after detection: {seg_after_det:.4f} ({'improvement' if seg_drop < 0 else 'drop'} {abs(seg_drop):.2f}%)\")\n",
    "\n",
    "# Stage 3: Classification with replay\n",
    "print(\"=== Stage 3: Classification Only ===\")\n",
    "cls_result = trainer.train_stage_3_classification(epochs=20)\n",
    "cls_baseline = cls_result['top1']\n",
    "cls_losses = cls_result['losses']\n",
    "seg_after_cls = trainer.evaluate_segmentation()\n",
    "det_after_cls = trainer.evaluate_detection()\n",
    "cls_after_cls = trainer.evaluate_classification()\n",
    "seg_drop2 = (seg_baseline - seg_after_cls) / seg_baseline * 100\n",
    "det_drop2 = (det_baseline - det_after_cls) / det_baseline * 100\n",
    "cls_drop2 = (cls_baseline - cls_after_cls) / cls_baseline * 100\n",
    "print(f\"Classification Top-1 baseline: {cls_baseline:.4f}\")\n",
    "print(f\"Segmentation mIoU after classification: {seg_after_cls:.4f} ({'improvement' if seg_drop2 < 0 else 'drop'} {abs(seg_drop2):.2f}%)\")\n",
    "print(f\"Detection mAP after classification: {det_after_cls:.4f} ({'improvement' if det_drop2 < 0 else 'drop'} {abs(det_drop2):.2f}%)\")\n",
    "print(f\"Classification Top-1 after classification: {cls_after_cls:.4f} ({'improvement' if cls_drop2 < 0 else 'drop'} {abs(cls_drop2):.2f}%)\")\n",
    "\n",
    "end_time = time.time()\n",
    "elapsed = end_time - start_time\n",
    "print(f\"Total training time: {elapsed/60:.2f} minutes ({elapsed:.1f} seconds)\")\n",
    "\n",
    "# Plot loss curves\n",
    "plt.figure(figsize=(15,4))\n",
    "plt.subplot(1,3,1)\n",
    "plt.plot(seg_losses)\n",
    "plt.title('Segmentation Loss')\n",
    "plt.xlabel('Epoch')\n",
    "plt.ylabel('Loss')\n",
    "plt.subplot(1,3,2)\n",
    "plt.plot(det_losses)\n",
    "plt.title('Detection Loss')\n",
    "plt.xlabel('Epoch')\n",
    "plt.ylabel('Loss')\n",
    "plt.subplot(1,3,3)\n",
    "plt.plot(cls_losses)\n",
    "plt.title('Classification Loss')\n",
    "plt.xlabel('Epoch')\n",
    "plt.ylabel('Loss')\n",
    "plt.tight_layout()\n",
    "plt.show()\n"
   ]
  },
  {
   "cell_type": "code",
   "execution_count": 4,
   "id": "92d5075b",
   "metadata": {},
   "outputs": [
    {
     "name": "stdout",
     "output_type": "stream",
     "text": [
      "Average inference time: 5.10ms\n"
     ]
    }
   ],
   "source": [
    "# Cell 5: Final evaluation\n",
    "# !python scripts/eval.py --weights checkpoints/final_model.pt --dataroot data --tasks all\n",
    "model.eval()\n",
    "dummy_input = torch.randn(1, 3, 512, 512).to(device)\n",
    "\n",
    "# 預熱\n",
    "for _ in range(10):\n",
    "    with torch.no_grad():\n",
    "        _ = model(dummy_input)\n",
    "\n",
    "# 測試推理速度\n",
    "start_time = time.time()\n",
    "for _ in range(100):\n",
    "    with torch.no_grad():\n",
    "        outputs = model(dummy_input)\n",
    "avg_time = (time.time() - start_time) / 100 * 1000  # ms\n",
    "\n",
    "print(f\"Average inference time: {avg_time:.2f}ms\")\n",
    "assert avg_time <= 150, f\"Inference time {avg_time:.2f}ms exceeds 150ms limit!\""
   ]
  },
  {
   "cell_type": "code",
   "execution_count": 5,
   "id": "1de98ca2",
   "metadata": {},
   "outputs": [
    {
     "name": "stdout",
     "output_type": "stream",
     "text": [
      "Model saved to results/run_20250616_033547/final_model.pt\n",
      "Results saved to results/run_20250616_033547/results.json\n"
     ]
    }
   ],
   "source": [
    "# Cell 6: Saving results\n",
    "import os\n",
    "import json\n",
    "from datetime import datetime\n",
    "\n",
    "# Create a unique results directory\n",
    "timestamp = datetime.now().strftime('%Y%m%d_%H%M%S')\n",
    "results_dir = os.path.join('results', f'run_{timestamp}')\n",
    "os.makedirs(results_dir, exist_ok=True)\n",
    "\n",
    "# Save model\n",
    "model_path = os.path.join(results_dir, 'final_model.pt')\n",
    "torch.save(model.state_dict(), model_path)\n",
    "print(f\"Model saved to {model_path}\")\n",
    "\n",
    "# Collect all details for results\n",
    "results = {\n",
    "    'segmentation': {\n",
    "        'baseline_miou': float(seg_baseline),\n",
    "        'after_detection_miou': float(seg_after_det),\n",
    "        'after_classification_miou': float(seg_after_cls),\n",
    "        'drop_after_detection': float(seg_drop),\n",
    "        'drop_after_classification': float(seg_drop2),\n",
    "        'loss_curve': [float(x) for x in seg_losses]\n",
    "    },\n",
    "    'detection': {\n",
    "        'baseline_map': float(det_baseline),\n",
    "        'after_classification_map': float(det_after_cls),\n",
    "        'drop_after_classification': float(det_drop2),\n",
    "        'loss_curve': [float(x) for x in det_losses]\n",
    "    },\n",
    "    'classification': {\n",
    "        'baseline_top1': float(cls_baseline),\n",
    "        'after_classification_top1': float(cls_after_cls),\n",
    "        'drop_after_classification': float(cls_drop2),\n",
    "        'loss_curve': [float(x) for x in cls_losses]\n",
    "    },\n",
    "    'parameter_count': int(total_params),\n",
    "    'inference_time_ms': float(avg_time),\n",
    "    'training_time_sec': float(elapsed),\n",
    "    'training_time_min': float(elapsed/60),\n",
    "    'config': {\n",
    "        'stage1_epochs': config.stage1_epochs,\n",
    "        'stage2_epochs': config.stage2_epochs,\n",
    "        'stage3_epochs': config.stage3_epochs,\n",
    "        'batch_size': config.batch_size,\n",
    "        'replay_size': config.replay_size,\n",
    "        'ewc_lambda': config.ewc_lambda,\n",
    "        'lr': config.lr\n",
    "    },\n",
    "    'timestamp': timestamp\n",
    "}\n",
    "\n",
    "# Save results\n",
    "results_path = os.path.join(results_dir, 'results.json')\n",
    "with open(results_path, 'w') as f:\n",
    "    json.dump(results, f, indent=2)\n",
    "print(f\"Results saved to {results_path}\")"
   ]
  }
 ],
 "metadata": {
  "kernelspec": {
   "display_name": "Python 3",
   "language": "python",
   "name": "python3"
  },
  "language_info": {
   "codemirror_mode": {
    "name": "ipython",
    "version": 3
   },
   "file_extension": ".py",
   "mimetype": "text/x-python",
   "name": "python",
   "nbconvert_exporter": "python",
   "pygments_lexer": "ipython3",
   "version": "3.10.12"
  }
 },
 "nbformat": 4,
 "nbformat_minor": 5
}
