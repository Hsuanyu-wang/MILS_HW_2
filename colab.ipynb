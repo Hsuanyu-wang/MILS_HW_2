{
 "cells": [
  {
   "cell_type": "code",
   "execution_count": 1,
   "id": "b845fce5",
   "metadata": {},
   "outputs": [
    {
     "name": "stdout",
     "output_type": "stream",
     "text": [
      "Looking in indexes: https://pypi.org/simple, https://pypi.ngc.nvidia.com\n",
      "Processing /rapids/aiohttp-3.8.4-cp310-cp310-manylinux_2_17_x86_64.manylinux2014_x86_64.whl (from -r requirements.txt (line 4))\n",
      "\u001b[31mERROR: Could not install packages due to an OSError: [Errno 2] No such file or directory: '/rapids/aiohttp-3.8.4-cp310-cp310-manylinux_2_17_x86_64.manylinux2014_x86_64.whl'\n",
      "\u001b[0m\u001b[31m\n",
      "\u001b[0mTraining subset size: 240\n",
      "Validation subset size: 60\n",
      "Downloading training set...\n",
      "Downloading COCO annotations...\n",
      "Extracting annotations...\n",
      "loading annotations into memory...\n",
      "Done (t=8.30s)\n",
      "creating index...\n",
      "index created!\n",
      "Downloading 240 images for train set...\n",
      "Downloaded 10/240 images\n",
      "Downloaded 20/240 images\n",
      "Downloaded 30/240 images\n",
      "Downloaded 40/240 images\n",
      "Downloaded 50/240 images\n",
      "Downloaded 60/240 images\n",
      "Downloaded 70/240 images\n",
      "Downloaded 80/240 images\n",
      "Downloaded 90/240 images\n",
      "Downloaded 100/240 images\n",
      "Downloaded 110/240 images\n",
      "Downloaded 120/240 images\n",
      "Downloaded 130/240 images\n",
      "Downloaded 140/240 images\n",
      "Downloaded 150/240 images\n",
      "Downloaded 160/240 images\n",
      "Downloaded 170/240 images\n",
      "Downloaded 180/240 images\n",
      "Downloaded 190/240 images\n",
      "Downloaded 200/240 images\n",
      "Downloaded 210/240 images\n",
      "Downloaded 220/240 images\n",
      "Downloaded 230/240 images\n",
      "Downloaded 240/240 images\n",
      "\n",
      "Downloading validation set...\n",
      "loading annotations into memory...\n",
      "Done (t=0.24s)\n",
      "creating index...\n",
      "index created!\n",
      "Downloading 60 images for val set...\n",
      "Downloaded 10/60 images\n",
      "Downloaded 20/60 images\n",
      "Downloaded 30/60 images\n",
      "Downloaded 40/60 images\n",
      "Downloaded 50/60 images\n",
      "Downloaded 60/60 images\n",
      "Downloading http://host.robots.ox.ac.uk/pascal/VOC/voc2012/VOCtrainval_11-May-2012.tar to ./data/VOCtrainval_11-May-2012.tar\n",
      "100%|██████████████████████| 1999639040/1999639040 [07:03<00:00, 4718893.52it/s]\n",
      "Extracting ./data/VOCtrainval_11-May-2012.tar to ./data\n",
      "Using downloaded and verified file: ./data/VOCtrainval_11-May-2012.tar\n",
      "Extracting ./data/VOCtrainval_11-May-2012.tar to ./data\n"
     ]
    }
   ],
   "source": [
    "# notebooks/colab.ipynb\n",
    "import os\n",
    "# Change to the MILS_HW2 directory first\n",
    "os.chdir('../MILS_HW2')\n",
    "\n",
    "# Cell 1: Setup and downloads\n",
    "!pip install -r requirements.txt\n",
    "# Download all datasets\n",
    "!python scripts/download_imagenette_cls.py\n",
    "!python scripts/download_coco_det.py\n",
    "!python scripts/download_voc_seg.py"
   ]
  },
  {
   "cell_type": "code",
   "execution_count": 2,
   "id": "f1686eee",
   "metadata": {},
   "outputs": [
    {
     "name": "stdout",
     "output_type": "stream",
     "text": [
      "Verifying downloads...\n",
      "seg dataset found at ./data/VOCdevkit/VOC2012\n",
      "det dataset found at ./data/coco_subset\n",
      "cls dataset found at ./data/imagenette2-160\n",
      "Using device: cuda\n"
     ]
    }
   ],
   "source": [
    "# Cell 2: Verify downloads\n",
    "# Add a verification step\n",
    "print(\"Verifying downloads...\")\n",
    "import torch\n",
    "data_paths = {\n",
    "    'seg': './data/VOCdevkit/VOC2012',\n",
    "    'det': './data/coco_subset',\n",
    "    'cls': './data/imagenette2-160'\n",
    "}\n",
    "\n",
    "for task, path in data_paths.items():\n",
    "    if os.path.exists(path):\n",
    "        print(f\"{task} dataset found at {path}\")\n",
    "    else:\n",
    "        print(f\"WARNING: {task} dataset not found at {path}\")\n",
    "        \n",
    "device = torch.device('cuda' if torch.cuda.is_available() else 'cpu')\n",
    "print(f\"Using device: {device}\")"
   ]
  },
  {
   "cell_type": "code",
   "execution_count": 3,
   "id": "5dc7253f",
   "metadata": {},
   "outputs": [
    {
     "name": "stdout",
     "output_type": "stream",
     "text": [
      "Loss functions initialized\n",
      "Total parameters: 3.2M\n",
      "Total parameters: 3.15M\n",
      "Loading datasets...\n"
     ]
    },
    {
     "name": "stderr",
     "output_type": "stream",
     "text": [
      "/usr/local/lib/python3.10/dist-packages/torchvision/models/_utils.py:208: UserWarning: The parameter 'pretrained' is deprecated since 0.13 and may be removed in the future, please use 'weights' instead.\n",
      "  warnings.warn(\n",
      "/usr/local/lib/python3.10/dist-packages/torchvision/models/_utils.py:223: UserWarning: Arguments other than a weight enum or `None` for 'weights' are deprecated since 0.13 and may be removed in the future. The current behavior is equivalent to passing `weights=MobileNet_V3_Small_Weights.IMAGENET1K_V1`. You can also use `weights=MobileNet_V3_Small_Weights.DEFAULT` to get the most up-to-date weights.\n",
      "  warnings.warn(msg)\n"
     ]
    },
    {
     "name": "stdout",
     "output_type": "stream",
     "text": [
      "loading annotations into memory...\n",
      "Done (t=8.52s)\n",
      "creating index...\n",
      "index created!\n",
      "loading annotations into memory...\n",
      "Done (t=1.08s)\n",
      "creating index...\n",
      "index created!\n",
      "dataloaders {'seg': {'train': <torch.utils.data.dataloader.DataLoader object at 0x7f868f7bf190>, 'val': <torch.utils.data.dataloader.DataLoader object at 0x7f868f7bf310>}, 'cls': {'train': <torch.utils.data.dataloader.DataLoader object at 0x7f868f7bfc10>, 'val': <torch.utils.data.dataloader.DataLoader object at 0x7f868f7bf9a0>}, 'det': {'train': <torch.utils.data.dataloader.DataLoader object at 0x7f868f7bf6d0>, 'val': <torch.utils.data.dataloader.DataLoader object at 0x7f868f7bf520>}}\n",
      "datasets:\n",
      " {'seg': <torch.utils.data.dataloader.DataLoader object at 0x7f868f7bf190>, 'seg_val': <torch.utils.data.dataloader.DataLoader object at 0x7f868f7bf310>, 'det': <torch.utils.data.dataloader.DataLoader object at 0x7f868f7bf6d0>, 'det_val': <torch.utils.data.dataloader.DataLoader object at 0x7f868f7bf520>, 'cls': <torch.utils.data.dataloader.DataLoader object at 0x7f868f7bfc10>, 'cls_val': <torch.utils.data.dataloader.DataLoader object at 0x7f868f7bf9a0>}\n",
      "Datasets loaded successfully!\n",
      "Detection batches: 15\n",
      "Segmentation batches: 15\n",
      "Classification batches: 15\n"
     ]
    }
   ],
   "source": [
    "# Cell 3: Model and Data initialization \n",
    "from src.models.unified_model import UnifiedModel\n",
    "from src.datasets.data_loaders import create_dataloaders\n",
    "from src.training.loss_functions import MultiTaskLoss, UncertaintyWeightedLoss\n",
    "from configs.config import Config  # 使用Config類\n",
    "\n",
    "# 初始化配置\n",
    "config = Config()  # 創建Config實例，不是模組\n",
    "\n",
    "# 初始化損失函數\n",
    "criterion = MultiTaskLoss()\n",
    "print(\"Loss functions initialized\")\n",
    "\n",
    "# 初始化模型\n",
    "model = UnifiedModel().to(device)\n",
    "print(f\"Total parameters: {sum(p.numel() for p in model.parameters())/1e6:.1f}M\")\n",
    "\n",
    "total_params = sum(p.numel() for p in model.parameters())\n",
    "print(f\"Total parameters: {total_params/1e6:.2f}M\")\n",
    "assert total_params <= 8e6, f\"Parameter count {total_params/1e6:.2f}M exceeds 8M limit!\"\n",
    "\n",
    "# 創建數據載入器 (根據你的下載檔案)\n",
    "print(\"Loading datasets...\")\n",
    "dataloaders = create_dataloaders(\n",
    "    batch_size=config.batch_size,\n",
    "    num_workers=config.num_workers\n",
    ")\n",
    "print(\"dataloaders\", dataloaders)\n",
    "\n",
    "# 準備datasets字典給trainer使用 (只用train set)\n",
    "datasets = {\n",
    "    'seg': dataloaders['seg']['train'],\n",
    "    'seg_val': dataloaders['seg']['val'],\n",
    "    'det': dataloaders['det']['train'],\n",
    "    'det_val': dataloaders['det']['val'],\n",
    "    'cls': dataloaders['cls']['train'],\n",
    "    'cls_val': dataloaders['cls']['val']\n",
    "}\n",
    "print(\"datasets:\\n\", datasets)\n",
    "print(\"Datasets loaded successfully!\")\n",
    "print(f\"Detection batches: {len(datasets['det'])}\")\n",
    "print(f\"Segmentation batches: {len(datasets['seg'])}\")\n",
    "print(f\"Classification batches: {len(datasets['cls'])}\")"
   ]
  },
  {
   "cell_type": "code",
   "execution_count": 4,
   "id": "02e9c95e",
   "metadata": {},
   "outputs": [
    {
     "ename": "TypeError",
     "evalue": "MultiTaskTrainer.__init__() got an unexpected keyword argument 'criterion'",
     "output_type": "error",
     "traceback": [
      "\u001b[0;31m---------------------------------------------------------------------------\u001b[0m",
      "\u001b[0;31mTypeError\u001b[0m                                 Traceback (most recent call last)",
      "Cell \u001b[0;32mIn[4], line 3\u001b[0m\n\u001b[1;32m      1\u001b[0m \u001b[38;5;66;03m# Cell 4: Three-stage training\u001b[39;00m\n\u001b[1;32m      2\u001b[0m \u001b[38;5;28;01mfrom\u001b[39;00m \u001b[38;5;21;01msrc\u001b[39;00m\u001b[38;5;21;01m.\u001b[39;00m\u001b[38;5;21;01mtraining\u001b[39;00m\u001b[38;5;21;01m.\u001b[39;00m\u001b[38;5;21;01mtrainer\u001b[39;00m \u001b[38;5;28;01mimport\u001b[39;00m MultiTaskTrainer\n\u001b[0;32m----> 3\u001b[0m trainer \u001b[38;5;241m=\u001b[39m \u001b[43mMultiTaskTrainer\u001b[49m\u001b[43m(\u001b[49m\u001b[43mmodel\u001b[49m\u001b[43m,\u001b[49m\u001b[43m \u001b[49m\u001b[43mdatasets\u001b[49m\u001b[43m,\u001b[49m\u001b[43m \u001b[49m\u001b[43mconfig\u001b[49m\u001b[43m,\u001b[49m\u001b[43m \u001b[49m\u001b[43mcriterion\u001b[49m\u001b[38;5;241;43m=\u001b[39;49m\u001b[43mcriterion\u001b[49m\u001b[43m)\u001b[49m\n\u001b[1;32m      5\u001b[0m \u001b[38;5;66;03m# Stage 1: Segmentation baseline\u001b[39;00m\n\u001b[1;32m      6\u001b[0m \u001b[38;5;28mprint\u001b[39m(\u001b[38;5;124m\"\u001b[39m\u001b[38;5;124m=== Stage 1: Segmentation Only ===\u001b[39m\u001b[38;5;124m\"\u001b[39m)\n",
      "\u001b[0;31mTypeError\u001b[0m: MultiTaskTrainer.__init__() got an unexpected keyword argument 'criterion'"
     ]
    }
   ],
   "source": [
    "# Cell 4: Three-stage training\n",
    "from src.training.trainer import MultiTaskTrainer\n",
    "trainer = MultiTaskTrainer(model, datasets, config, criterion=criterion)\n",
    "\n",
    "# Stage 1: Segmentation baseline\n",
    "print(\"=== Stage 1: Segmentation Only ===\")\n",
    "seg_performance = trainer.train_stage1_segmentation(epochs=20)\n",
    "print(f\"Segmentation mIoU baseline: {seg_performance['miou']:.4f}\")\n",
    "\n",
    "# Debug: Check dataloader lengths and try to fetch a batch\n",
    "print('Detection train batches:', len(datasets['det']))\n",
    "print('Classification train batches:', len(datasets['cls']))\n",
    "    \n",
    "# Stage 2: Detection with EWC\n",
    "print(\"=== Stage 2: Detection Only ===\")\n",
    "det_performance = trainer.train_stage2_detection(epochs=15)\n",
    "seg_drop = trainer.evaluate_forgetting('segmentation')\n",
    "print(f\"Detection mAP baseline: {det_performance['map']:.4f}\")\n",
    "print(f\"Segmentation mIoU drop: {seg_drop:.2f}%\")\n",
    "\n",
    "# Stage 3: Classification with replay\n",
    "print(\"=== Stage 3: Classification Only ===\")\n",
    "cls_performance = trainer.train_stage3_classification(epochs=15)\n",
    "final_performance = trainer.evaluate_all_tasks()\n",
    "\n",
    "# # Validate forgetting constraint\n",
    "# success = trainer.validate_forgetting_constraint()\n",
    "# print(f\"Forgetting constraint satisfied: {success}\")\n",
    "# 檢查5%性能下降約束\n",
    "for task, drop in final_performance['drops'].items():\n",
    "    print(f\"{task} performance drop: {drop:.2f}%\")\n",
    "    assert drop <= 5.0, f\"{task} drop {drop:.2f}% exceeds 5% limit!\""
   ]
  },
  {
   "cell_type": "code",
   "execution_count": null,
   "id": "92d5075b",
   "metadata": {},
   "outputs": [],
   "source": [
    "# Cell 5: Final evaluation\n",
    "# !python scripts/eval.py --weights checkpoints/final_model.pt --dataroot data --tasks all\n",
    "model.eval()\n",
    "dummy_input = torch.randn(1, 3, 512, 512).to(device)\n",
    "\n",
    "# 預熱\n",
    "for _ in range(10):\n",
    "    with torch.no_grad():\n",
    "        _ = model(dummy_input)\n",
    "\n",
    "# 測試推理速度\n",
    "start_time = time.time()\n",
    "for _ in range(100):\n",
    "    with torch.no_grad():\n",
    "        outputs = model(dummy_input)\n",
    "avg_time = (time.time() - start_time) / 100 * 1000  # ms\n",
    "\n",
    "print(f\"Average inference time: {avg_time:.2f}ms\")\n",
    "assert avg_time <= 150, f\"Inference time {avg_time:.2f}ms exceeds 150ms limit!\""
   ]
  },
  {
   "cell_type": "code",
   "execution_count": null,
   "id": "1de98ca2",
   "metadata": {},
   "outputs": [],
   "source": [
    "# Cell 6: Save model\n",
    "torch.save(model.state_dict(), 'mils_hw2.pt')\n",
    "print(\"Model saved successfully!\")\n",
    "\n",
    "import json\n",
    "results = {\n",
    "    'final_performance': final_performance,\n",
    "    'parameter_count': total_params,\n",
    "    'inference_time_ms': avg_time\n",
    "}\n",
    "\n",
    "with open('results.json', 'w') as f:\n",
    "    json.dump(results, f, indent=2)"
   ]
  }
 ],
 "metadata": {
  "kernelspec": {
   "display_name": "Python 3",
   "language": "python",
   "name": "python3"
  },
  "language_info": {
   "codemirror_mode": {
    "name": "ipython",
    "version": 3
   },
   "file_extension": ".py",
   "mimetype": "text/x-python",
   "name": "python",
   "nbconvert_exporter": "python",
   "pygments_lexer": "ipython3",
   "version": "3.10.12"
  }
 },
 "nbformat": 4,
 "nbformat_minor": 5
}
