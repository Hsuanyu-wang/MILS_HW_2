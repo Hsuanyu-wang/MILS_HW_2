{
 "cells": [
  {
   "cell_type": "code",
   "execution_count": 1,
   "id": "b845fce5",
   "metadata": {},
   "outputs": [],
   "source": [
    "# notebooks/colab.ipynb\n",
    "import os\n",
    "# Change to the MILS_HW2 directory first\n",
    "os.chdir('../MILS_HW2')\n",
    "\n",
    "# Cell 1: Setup and downloads\n",
    "!pip install -r requirements.txt\n",
    "# Download all datasets\n",
    "!python scripts/download_imagenette_cls.py\n",
    "!python scripts/download_coco_det.py\n",
    "!python scripts/download_voc_seg.py"
   ]
  },
  {
   "cell_type": "code",
   "execution_count": 1,
   "id": "f1686eee",
   "metadata": {},
   "outputs": [
    {
     "name": "stdout",
     "output_type": "stream",
     "text": [
      "Verifying downloads...\n",
      "seg dataset found at ./data/VOCdevkit/VOC2012\n",
      "det dataset found at ./data/coco_subset\n",
      "cls dataset found at ./data/imagenette2-160\n",
      "Using device: cuda\n"
     ]
    }
   ],
   "source": [
    "# Cell 2: Verify downloads\n",
    "import os\n",
    "# Change to the MILS_HW2 directory first\n",
    "os.chdir('../MILS_HW2')\n",
    "\n",
    "# Add a verification step\n",
    "print(\"Verifying downloads...\")\n",
    "import torch\n",
    "data_paths = {\n",
    "    'seg': './data/VOCdevkit/VOC2012',\n",
    "    'det': './data/coco_subset',\n",
    "    'cls': './data/imagenette2-160'\n",
    "}\n",
    "\n",
    "for task, path in data_paths.items():\n",
    "    if os.path.exists(path):\n",
    "        print(f\"{task} dataset found at {path}\")\n",
    "    else:\n",
    "        print(f\"WARNING: {task} dataset not found at {path}\")\n",
    "        \n",
    "device = torch.device('cuda' if torch.cuda.is_available() else 'cpu')\n",
    "print(f\"Using device: {device}\")"
   ]
  },
  {
   "cell_type": "code",
   "execution_count": 2,
   "id": "5dc7253f",
   "metadata": {},
   "outputs": [
    {
     "name": "stdout",
     "output_type": "stream",
     "text": [
      "Loss functions initialized\n",
      "Total parameters: 3.2M\n",
      "Total parameters: 3.15M\n",
      "Loading datasets...\n",
      "loading annotations into memory...\n"
     ]
    },
    {
     "name": "stderr",
     "output_type": "stream",
     "text": [
      "/usr/local/lib/python3.10/dist-packages/torchvision/models/_utils.py:208: UserWarning: The parameter 'pretrained' is deprecated since 0.13 and may be removed in the future, please use 'weights' instead.\n",
      "  warnings.warn(\n",
      "/usr/local/lib/python3.10/dist-packages/torchvision/models/_utils.py:223: UserWarning: Arguments other than a weight enum or `None` for 'weights' are deprecated since 0.13 and may be removed in the future. The current behavior is equivalent to passing `weights=MobileNet_V3_Small_Weights.IMAGENET1K_V1`. You can also use `weights=MobileNet_V3_Small_Weights.DEFAULT` to get the most up-to-date weights.\n",
      "  warnings.warn(msg)\n"
     ]
    },
    {
     "name": "stdout",
     "output_type": "stream",
     "text": [
      "Done (t=8.59s)\n",
      "creating index...\n",
      "index created!\n",
      "loading annotations into memory...\n",
      "Done (t=1.07s)\n",
      "creating index...\n",
      "index created!\n",
      "dataloaders {'seg': {'train': <torch.utils.data.dataloader.DataLoader object at 0x7f57b6c5dba0>, 'val': <torch.utils.data.dataloader.DataLoader object at 0x7f57b6c5de40>}, 'cls': {'train': <torch.utils.data.dataloader.DataLoader object at 0x7f57b6b53af0>, 'val': <torch.utils.data.dataloader.DataLoader object at 0x7f57b6b53820>}, 'det': {'train': <torch.utils.data.dataloader.DataLoader object at 0x7f57b6b535b0>, 'val': <torch.utils.data.dataloader.DataLoader object at 0x7f57b6b53160>}}\n"
     ]
    }
   ],
   "source": [
    "# Cell 3: Model and Data initialization \n",
    "from src.models.unified_model import UnifiedModel\n",
    "from src.datasets.data_loaders import create_dataloaders\n",
    "from src.training.loss_functions import MultiTaskLoss, UncertaintyWeightedLoss\n",
    "from configs.config import Config  # 使用Config類\n",
    "\n",
    "# 初始化配置\n",
    "config = Config()  # 創建Config實例，不是模組\n",
    "\n",
    "# 初始化損失函數\n",
    "criterion = MultiTaskLoss()\n",
    "print(\"Loss functions initialized\")\n",
    "\n",
    "# 初始化模型\n",
    "model = UnifiedModel().to(device)\n",
    "print(f\"Total parameters: {sum(p.numel() for p in model.parameters())/1e6:.1f}M\")\n",
    "\n",
    "total_params = sum(p.numel() for p in model.parameters())\n",
    "print(f\"Total parameters: {total_params/1e6:.2f}M\")\n",
    "assert total_params <= 8e6, f\"Parameter count {total_params/1e6:.2f}M exceeds 8M limit!\"\n",
    "\n",
    "# 創建數據載入器 (根據你的下載檔案)\n",
    "print(\"Loading datasets...\")\n",
    "dataloaders = create_dataloaders(\n",
    "    batch_size=config.batch_size,\n",
    "    num_workers=config.num_workers\n",
    ")\n",
    "print(\"dataloaders\", dataloaders)\n",
    "\n",
    "# # 準備datasets字典給trainer使用 (只用train set)\n",
    "# datasets = {\n",
    "#     'seg': dataloaders['seg']['train'],\n",
    "#     'seg_val': dataloaders['seg']['val'],\n",
    "#     'det': dataloaders['det']['train'],\n",
    "#     'det_val': dataloaders['det']['val'],\n",
    "#     'cls': dataloaders['cls']['train'],\n",
    "#     'cls_val': dataloaders['cls']['val']\n",
    "# }\n",
    "# print(\"datasets:\\n\", datasets)\n",
    "# print(\"Datasets loaded successfully!\")\n",
    "# print(f\"Detection batches: {len(datasets['det'])}\")\n",
    "# print(f\"Segmentation batches: {len(datasets['seg'])}\")\n",
    "# print(f\"Classification batches: {len(datasets['cls'])}\")"
   ]
  },
  {
   "cell_type": "code",
   "execution_count": 3,
   "id": "02e9c95e",
   "metadata": {},
   "outputs": [
    {
     "name": "stdout",
     "output_type": "stream",
     "text": [
      "=== Stage 1: Segmentation Only ===\n",
      "Stage 1: Training on Mini-VOC-Seg only...\n"
     ]
    },
    {
     "name": "stderr",
     "output_type": "stream",
     "text": [
      "Segmentation Epoch 1:   0%|          | 0/15 [00:00<?, ?it/s]"
     ]
    },
    {
     "name": "stdout",
     "output_type": "stream",
     "text": [
      "[DEBUG] Batch type: <class 'dict'>\n",
      "[DEBUG] Batch keys: dict_keys(['image', 'mask'])\n"
     ]
    },
    {
     "name": "stderr",
     "output_type": "stream",
     "text": [
      "Segmentation Epoch 1: 100%|██████████| 15/15 [00:01<00:00, 14.14it/s]\n",
      "Segmentation Epoch 2:  27%|██▋       | 4/15 [00:00<00:00, 16.13it/s]"
     ]
    },
    {
     "name": "stdout",
     "output_type": "stream",
     "text": [
      "[DEBUG] Batch type: <class 'dict'>\n",
      "[DEBUG] Batch keys: dict_keys(['image', 'mask'])\n"
     ]
    },
    {
     "name": "stderr",
     "output_type": "stream",
     "text": [
      "Segmentation Epoch 2: 100%|██████████| 15/15 [00:00<00:00, 20.79it/s]\n",
      "Segmentation Epoch 3:  27%|██▋       | 4/15 [00:00<00:00, 15.89it/s]"
     ]
    },
    {
     "name": "stdout",
     "output_type": "stream",
     "text": [
      "[DEBUG] Batch type: <class 'dict'>\n",
      "[DEBUG] Batch keys: dict_keys(['image', 'mask'])\n"
     ]
    },
    {
     "name": "stderr",
     "output_type": "stream",
     "text": [
      "Segmentation Epoch 3: 100%|██████████| 15/15 [00:00<00:00, 20.77it/s]\n",
      "Segmentation Epoch 4:  27%|██▋       | 4/15 [00:00<00:00, 16.88it/s]"
     ]
    },
    {
     "name": "stdout",
     "output_type": "stream",
     "text": [
      "[DEBUG] Batch type: <class 'dict'>\n",
      "[DEBUG] Batch keys: dict_keys(['image', 'mask'])\n"
     ]
    },
    {
     "name": "stderr",
     "output_type": "stream",
     "text": [
      "Segmentation Epoch 4: 100%|██████████| 15/15 [00:00<00:00, 21.08it/s]\n",
      "Segmentation Epoch 5:  27%|██▋       | 4/15 [00:00<00:00, 16.39it/s]"
     ]
    },
    {
     "name": "stdout",
     "output_type": "stream",
     "text": [
      "[DEBUG] Batch type: <class 'dict'>\n",
      "[DEBUG] Batch keys: dict_keys(['image', 'mask'])\n"
     ]
    },
    {
     "name": "stderr",
     "output_type": "stream",
     "text": [
      "Segmentation Epoch 5: 100%|██████████| 15/15 [00:00<00:00, 20.97it/s]\n",
      "Segmentation Epoch 6:  27%|██▋       | 4/15 [00:00<00:00, 16.07it/s]"
     ]
    },
    {
     "name": "stdout",
     "output_type": "stream",
     "text": [
      "[DEBUG] Batch type: <class 'dict'>\n",
      "[DEBUG] Batch keys: dict_keys(['image', 'mask'])\n"
     ]
    },
    {
     "name": "stderr",
     "output_type": "stream",
     "text": [
      "Segmentation Epoch 6: 100%|██████████| 15/15 [00:00<00:00, 20.94it/s]\n",
      "Segmentation Epoch 7:  27%|██▋       | 4/15 [00:00<00:00, 15.74it/s]"
     ]
    },
    {
     "name": "stdout",
     "output_type": "stream",
     "text": [
      "[DEBUG] Batch type: <class 'dict'>\n",
      "[DEBUG] Batch keys: dict_keys(['image', 'mask'])\n"
     ]
    },
    {
     "name": "stderr",
     "output_type": "stream",
     "text": [
      "Segmentation Epoch 7: 100%|██████████| 15/15 [00:00<00:00, 20.21it/s]\n",
      "Segmentation Epoch 8:  27%|██▋       | 4/15 [00:00<00:00, 16.08it/s]"
     ]
    },
    {
     "name": "stdout",
     "output_type": "stream",
     "text": [
      "[DEBUG] Batch type: <class 'dict'>\n",
      "[DEBUG] Batch keys: dict_keys(['image', 'mask'])\n"
     ]
    },
    {
     "name": "stderr",
     "output_type": "stream",
     "text": [
      "Segmentation Epoch 8: 100%|██████████| 15/15 [00:00<00:00, 20.74it/s]\n",
      "Segmentation Epoch 9:  27%|██▋       | 4/15 [00:00<00:00, 17.02it/s]"
     ]
    },
    {
     "name": "stdout",
     "output_type": "stream",
     "text": [
      "[DEBUG] Batch type: <class 'dict'>\n",
      "[DEBUG] Batch keys: dict_keys(['image', 'mask'])\n"
     ]
    },
    {
     "name": "stderr",
     "output_type": "stream",
     "text": [
      "Segmentation Epoch 9: 100%|██████████| 15/15 [00:00<00:00, 21.30it/s]\n",
      "Segmentation Epoch 10:  27%|██▋       | 4/15 [00:00<00:00, 15.80it/s]"
     ]
    },
    {
     "name": "stdout",
     "output_type": "stream",
     "text": [
      "[DEBUG] Batch type: <class 'dict'>\n",
      "[DEBUG] Batch keys: dict_keys(['image', 'mask'])\n"
     ]
    },
    {
     "name": "stderr",
     "output_type": "stream",
     "text": [
      "Segmentation Epoch 10: 100%|██████████| 15/15 [00:00<00:00, 20.73it/s]\n",
      "Segmentation Epoch 11:  27%|██▋       | 4/15 [00:00<00:00, 16.97it/s]"
     ]
    },
    {
     "name": "stdout",
     "output_type": "stream",
     "text": [
      "[DEBUG] Batch type: <class 'dict'>\n",
      "[DEBUG] Batch keys: dict_keys(['image', 'mask'])\n"
     ]
    },
    {
     "name": "stderr",
     "output_type": "stream",
     "text": [
      "Segmentation Epoch 11: 100%|██████████| 15/15 [00:00<00:00, 21.10it/s]\n",
      "Segmentation Epoch 12:  27%|██▋       | 4/15 [00:00<00:00, 16.83it/s]"
     ]
    },
    {
     "name": "stdout",
     "output_type": "stream",
     "text": [
      "[DEBUG] Batch type: <class 'dict'>\n",
      "[DEBUG] Batch keys: dict_keys(['image', 'mask'])\n"
     ]
    },
    {
     "name": "stderr",
     "output_type": "stream",
     "text": [
      "Segmentation Epoch 12: 100%|██████████| 15/15 [00:00<00:00, 21.02it/s]\n",
      "Segmentation Epoch 13:  27%|██▋       | 4/15 [00:00<00:00, 16.51it/s]"
     ]
    },
    {
     "name": "stdout",
     "output_type": "stream",
     "text": [
      "[DEBUG] Batch type: <class 'dict'>\n",
      "[DEBUG] Batch keys: dict_keys(['image', 'mask'])\n"
     ]
    },
    {
     "name": "stderr",
     "output_type": "stream",
     "text": [
      "Segmentation Epoch 13: 100%|██████████| 15/15 [00:00<00:00, 21.01it/s]\n",
      "Segmentation Epoch 14:  27%|██▋       | 4/15 [00:00<00:00, 16.40it/s]"
     ]
    },
    {
     "name": "stdout",
     "output_type": "stream",
     "text": [
      "[DEBUG] Batch type: <class 'dict'>\n",
      "[DEBUG] Batch keys: dict_keys(['image', 'mask'])\n"
     ]
    },
    {
     "name": "stderr",
     "output_type": "stream",
     "text": [
      "Segmentation Epoch 14: 100%|██████████| 15/15 [00:00<00:00, 20.89it/s]\n",
      "Segmentation Epoch 15:  27%|██▋       | 4/15 [00:00<00:00, 16.05it/s]"
     ]
    },
    {
     "name": "stdout",
     "output_type": "stream",
     "text": [
      "[DEBUG] Batch type: <class 'dict'>\n",
      "[DEBUG] Batch keys: dict_keys(['image', 'mask'])\n"
     ]
    },
    {
     "name": "stderr",
     "output_type": "stream",
     "text": [
      "Segmentation Epoch 15: 100%|██████████| 15/15 [00:00<00:00, 20.88it/s]\n",
      "Segmentation Epoch 16:  27%|██▋       | 4/15 [00:00<00:00, 16.10it/s]"
     ]
    },
    {
     "name": "stdout",
     "output_type": "stream",
     "text": [
      "[DEBUG] Batch type: <class 'dict'>\n",
      "[DEBUG] Batch keys: dict_keys(['image', 'mask'])\n"
     ]
    },
    {
     "name": "stderr",
     "output_type": "stream",
     "text": [
      "Segmentation Epoch 16: 100%|██████████| 15/15 [00:00<00:00, 20.90it/s]\n",
      "Segmentation Epoch 17:  27%|██▋       | 4/15 [00:00<00:00, 16.06it/s]"
     ]
    },
    {
     "name": "stdout",
     "output_type": "stream",
     "text": [
      "[DEBUG] Batch type: <class 'dict'>\n",
      "[DEBUG] Batch keys: dict_keys(['image', 'mask'])\n"
     ]
    },
    {
     "name": "stderr",
     "output_type": "stream",
     "text": [
      "Segmentation Epoch 17: 100%|██████████| 15/15 [00:00<00:00, 20.74it/s]\n",
      "Segmentation Epoch 18:  27%|██▋       | 4/15 [00:00<00:00, 15.85it/s]"
     ]
    },
    {
     "name": "stdout",
     "output_type": "stream",
     "text": [
      "[DEBUG] Batch type: <class 'dict'>\n",
      "[DEBUG] Batch keys: dict_keys(['image', 'mask'])\n"
     ]
    },
    {
     "name": "stderr",
     "output_type": "stream",
     "text": [
      "Segmentation Epoch 18: 100%|██████████| 15/15 [00:00<00:00, 20.59it/s]\n",
      "Segmentation Epoch 19:  27%|██▋       | 4/15 [00:00<00:00, 16.17it/s]"
     ]
    },
    {
     "name": "stdout",
     "output_type": "stream",
     "text": [
      "[DEBUG] Batch type: <class 'dict'>\n",
      "[DEBUG] Batch keys: dict_keys(['image', 'mask'])\n"
     ]
    },
    {
     "name": "stderr",
     "output_type": "stream",
     "text": [
      "Segmentation Epoch 19: 100%|██████████| 15/15 [00:00<00:00, 20.86it/s]\n",
      "Segmentation Epoch 20:  27%|██▋       | 4/15 [00:00<00:00, 16.29it/s]"
     ]
    },
    {
     "name": "stdout",
     "output_type": "stream",
     "text": [
      "[DEBUG] Batch type: <class 'dict'>\n",
      "[DEBUG] Batch keys: dict_keys(['image', 'mask'])\n"
     ]
    },
    {
     "name": "stderr",
     "output_type": "stream",
     "text": [
      "Segmentation Epoch 20: 100%|██████████| 15/15 [00:00<00:00, 20.93it/s]\n"
     ]
    },
    {
     "name": "stdout",
     "output_type": "stream",
     "text": [
      "[EVAL] Segmentation mIoU: 0.2425\n",
      "Segmentation mIoU baseline: 0.2425\n",
      "Detection train batches: 2\n",
      "Classification train batches: 2\n",
      "=== Stage 2: Detection Only ===\n",
      "Stage 2: Training on Mini-COCO-Det with forgetting mitigation...\n",
      "[EWC] Computing Fisher information for segmentation...\n"
     ]
    },
    {
     "name": "stderr",
     "output_type": "stream",
     "text": [
      "Detection Epoch 1: 100%|██████████| 15/15 [00:00<00:00, 19.28it/s]\n",
      "Detection Epoch 2: 100%|██████████| 15/15 [00:00<00:00, 19.20it/s]\n",
      "Detection Epoch 3: 100%|██████████| 15/15 [00:00<00:00, 20.03it/s]\n",
      "Detection Epoch 4: 100%|██████████| 15/15 [00:00<00:00, 19.37it/s]\n",
      "Detection Epoch 5: 100%|██████████| 15/15 [00:00<00:00, 19.93it/s]\n",
      "Detection Epoch 6: 100%|██████████| 15/15 [00:00<00:00, 19.37it/s]\n",
      "Detection Epoch 7: 100%|██████████| 15/15 [00:00<00:00, 18.89it/s]\n",
      "Detection Epoch 8: 100%|██████████| 15/15 [00:00<00:00, 19.22it/s]\n",
      "Detection Epoch 9: 100%|██████████| 15/15 [00:00<00:00, 19.68it/s]\n",
      "Detection Epoch 10: 100%|██████████| 15/15 [00:00<00:00, 19.03it/s]\n",
      "Detection Epoch 11: 100%|██████████| 15/15 [00:00<00:00, 17.66it/s]\n",
      "Detection Epoch 12: 100%|██████████| 15/15 [00:00<00:00, 17.80it/s]\n",
      "Detection Epoch 13: 100%|██████████| 15/15 [00:00<00:00, 17.83it/s]\n",
      "Detection Epoch 14: 100%|██████████| 15/15 [00:00<00:00, 17.81it/s]\n",
      "Detection Epoch 15: 100%|██████████| 15/15 [00:00<00:00, 17.96it/s]\n"
     ]
    },
    {
     "name": "stdout",
     "output_type": "stream",
     "text": [
      "[EVAL] Detection val batches processed: 60\n",
      "[EVAL] evaluate_forgetting called for segmentation (dummy value)\n",
      "Detection mAP baseline: 0.5000\n",
      "Segmentation mIoU drop: 2.00%\n",
      "=== Stage 3: Classification Only ===\n",
      "Stage 3: Training on Imagenette-160 with replay...\n",
      "[Replay] Creating replay buffer...\n"
     ]
    },
    {
     "name": "stderr",
     "output_type": "stream",
     "text": [
      "Classification Epoch 1: 100%|██████████| 15/15 [00:04<00:00,  3.64it/s]\n",
      "Classification Epoch 2: 100%|██████████| 15/15 [00:03<00:00,  3.76it/s]\n",
      "Classification Epoch 3: 100%|██████████| 15/15 [00:03<00:00,  3.82it/s]\n",
      "Classification Epoch 4: 100%|██████████| 15/15 [00:03<00:00,  3.76it/s]\n",
      "Classification Epoch 5: 100%|██████████| 15/15 [00:03<00:00,  3.80it/s]\n",
      "Classification Epoch 6: 100%|██████████| 15/15 [00:03<00:00,  3.86it/s]\n",
      "Classification Epoch 7: 100%|██████████| 15/15 [00:03<00:00,  3.88it/s]\n",
      "Classification Epoch 8: 100%|██████████| 15/15 [00:03<00:00,  3.76it/s]\n",
      "Classification Epoch 9: 100%|██████████| 15/15 [00:03<00:00,  3.83it/s]\n",
      "Classification Epoch 10: 100%|██████████| 15/15 [00:03<00:00,  3.82it/s]\n",
      "Classification Epoch 11: 100%|██████████| 15/15 [00:03<00:00,  3.84it/s]\n",
      "Classification Epoch 12: 100%|██████████| 15/15 [00:03<00:00,  3.89it/s]\n",
      "Classification Epoch 13: 100%|██████████| 15/15 [00:03<00:00,  3.86it/s]\n",
      "Classification Epoch 14: 100%|██████████| 15/15 [00:03<00:00,  3.86it/s]\n",
      "Classification Epoch 15: 100%|██████████| 15/15 [00:03<00:00,  3.80it/s]\n"
     ]
    },
    {
     "name": "stdout",
     "output_type": "stream",
     "text": [
      "[EVAL] Classification Top-1 Accuracy: 1.0000\n",
      "[EVAL] evaluate_all_tasks called (dummy values)\n",
      "segmentation performance drop: 2.00%\n",
      "detection performance drop: 3.00%\n",
      "classification performance drop: 1.50%\n",
      "Total training time: 1.47 minutes (88.4 seconds)\n"
     ]
    }
   ],
   "source": [
    "# Cell 4: Three-stage training\n",
    "import time\n",
    "start_time = time.time()\n",
    "from src.training.trainer import MultiTaskTrainer\n",
    "trainer = MultiTaskTrainer(model, dataloaders, config)\n",
    "\n",
    "# Stage 1: Segmentation baseline\n",
    "print(\"=== Stage 1: Segmentation Only ===\")\n",
    "seg_performance = trainer.train_stage_1_segmentation()\n",
    "print(f\"Segmentation mIoU baseline: {seg_performance['miou']:.4f}\")\n",
    "\n",
    "# Debug: Check dataloader lengths and try to fetch a batch\n",
    "print('Detection train batches:', len(dataloaders['det']))\n",
    "print('Classification train batches:', len(dataloaders['cls']))\n",
    "    \n",
    "# Stage 2: Detection with EWC\n",
    "print(\"=== Stage 2: Detection Only ===\")\n",
    "det_performance = trainer.train_stage_2_detection(epochs=15)\n",
    "seg_drop = trainer.evaluate_forgetting('segmentation')\n",
    "print(f\"Detection mAP baseline: {det_performance['map']:.4f}\")\n",
    "print(f\"Segmentation mIoU drop: {seg_drop:.2f}%\")\n",
    "\n",
    "# Stage 3: Classification with replay\n",
    "print(\"=== Stage 3: Classification Only ===\")\n",
    "cls_performance = trainer.train_stage_3_classification(epochs=15)\n",
    "final_performance = trainer.evaluate_all_tasks()\n",
    "\n",
    "# # Validate forgetting constraint\n",
    "# success = trainer.validate_forgetting_constraint()\n",
    "# print(f\"Forgetting constraint satisfied: {success}\")\n",
    "# 檢查5%性能下降約束\n",
    "for task, drop in final_performance['drops'].items():\n",
    "    print(f\"{task} performance drop: {drop:.2f}%\")\n",
    "    assert drop <= 5.0, f\"{task} drop {drop:.2f}% exceeds 5% limit!\"\n",
    "end_time = time.time()\n",
    "elapsed = end_time - start_time\n",
    "print(f\"Total training time: {elapsed/60:.2f} minutes ({elapsed:.1f} seconds)\")"
   ]
  },
  {
   "cell_type": "code",
   "execution_count": 4,
   "id": "92d5075b",
   "metadata": {},
   "outputs": [
    {
     "name": "stdout",
     "output_type": "stream",
     "text": [
      "Average inference time: 4.34ms\n"
     ]
    }
   ],
   "source": [
    "# Cell 5: Final evaluation\n",
    "# !python scripts/eval.py --weights checkpoints/final_model.pt --dataroot data --tasks all\n",
    "model.eval()\n",
    "dummy_input = torch.randn(1, 3, 512, 512).to(device)\n",
    "\n",
    "# 預熱\n",
    "for _ in range(10):\n",
    "    with torch.no_grad():\n",
    "        _ = model(dummy_input)\n",
    "\n",
    "# 測試推理速度\n",
    "start_time = time.time()\n",
    "for _ in range(100):\n",
    "    with torch.no_grad():\n",
    "        outputs = model(dummy_input)\n",
    "avg_time = (time.time() - start_time) / 100 * 1000  # ms\n",
    "\n",
    "print(f\"Average inference time: {avg_time:.2f}ms\")\n",
    "assert avg_time <= 150, f\"Inference time {avg_time:.2f}ms exceeds 150ms limit!\""
   ]
  },
  {
   "cell_type": "code",
   "execution_count": 5,
   "id": "1de98ca2",
   "metadata": {},
   "outputs": [
    {
     "name": "stdout",
     "output_type": "stream",
     "text": [
      "Model saved successfully!\n"
     ]
    }
   ],
   "source": [
    "# Cell 6: Save model\n",
    "torch.save(model.state_dict(), 'mils_hw2.pt')\n",
    "print(\"Model saved successfully!\")\n",
    "\n",
    "import json\n",
    "results = {\n",
    "    'final_performance': final_performance,\n",
    "    'parameter_count': total_params,\n",
    "    'inference_time_ms': avg_time\n",
    "}\n",
    "\n",
    "with open('results.json', 'w') as f:\n",
    "    json.dump(results, f, indent=2)"
   ]
  }
 ],
 "metadata": {
  "kernelspec": {
   "display_name": "Python 3",
   "language": "python",
   "name": "python3"
  },
  "language_info": {
   "codemirror_mode": {
    "name": "ipython",
    "version": 3
   },
   "file_extension": ".py",
   "mimetype": "text/x-python",
   "name": "python",
   "nbconvert_exporter": "python",
   "pygments_lexer": "ipython3",
   "version": "3.10.12"
  }
 },
 "nbformat": 4,
 "nbformat_minor": 5
}
